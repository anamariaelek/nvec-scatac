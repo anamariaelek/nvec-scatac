{
 "cells": [
  {
   "cell_type": "markdown",
   "metadata": {},
   "source": [
    "## Automate cytoscape network visualization with Python\n",
    "\n",
    "We first activate the enviroment where we installed `py4cytoscape`\n",
    "\n",
    "```\n",
    "conda create --name cytoscape\n",
    "conda activate cytoscape\n",
    "conda install pip\n",
    "pip install py4cytoscape\n",
    "conda install ipykernel\n",
    "```\n",
    "\n",
    "Then, start Cytoscape and run the code below."
   ]
  },
  {
   "cell_type": "code",
   "execution_count": 1,
   "metadata": {},
   "outputs": [
    {
     "name": "stdout",
     "output_type": "stream",
     "text": [
      "You are connected to Cytoscape!\n"
     ]
    },
    {
     "data": {
      "text/plain": [
       "{'apiVersion': 'v1',\n",
       " 'cytoscapeVersion': '3.10.3',\n",
       " 'automationAPIVersion': '1.11.0',\n",
       " 'py4cytoscapeVersion': '1.11.0'}"
      ]
     },
     "execution_count": 1,
     "metadata": {},
     "output_type": "execute_result"
    }
   ],
   "source": [
    "import numpy as np\n",
    "import pandas as pd\n",
    "\n",
    "import py4cytoscape as p4c\n",
    "p4c.cytoscape_ping()\n",
    "p4c.cytoscape_version_info()"
   ]
  },
  {
   "cell_type": "markdown",
   "metadata": {},
   "source": [
    "Load TFs annotation"
   ]
  },
  {
   "cell_type": "code",
   "execution_count": 2,
   "metadata": {},
   "outputs": [],
   "source": [
    "tfs_dat = pd.read_csv('annotation/Nematostella_DToL_TFs_FINAL.tsv', sep='\\t')\n",
    "gns_dat = pd.read_csv('annotation/Nematostella_DToL_FINAL.tsv', sep='\\t')"
   ]
  },
  {
   "cell_type": "markdown",
   "metadata": {},
   "source": [
    "Load GRN table"
   ]
  },
  {
   "cell_type": "code",
   "execution_count": 3,
   "metadata": {},
   "outputs": [],
   "source": [
    "grn_dir = 'results/GRN/networks/'\n",
    "\n",
    "# chromvar threshold\n",
    "chr_thr = 4\n",
    "\n",
    "# load GRN data\n",
    "grn_dat = pd.read_csv(\n",
    "    grn_dir + f'grn_genes_expression_fc_0.4_accessibility_access_0.4_chromvar_{chr_thr}.tsv.gz',\n",
    "    sep = '\\t'\n",
    ")\n",
    "grn_dat = grn_dat.loc[~grn_dat['target_gene'].isna(), :]\n",
    "\n",
    "# expression threshold\n",
    "fc_thr = 1.4"
   ]
  },
  {
   "cell_type": "markdown",
   "metadata": {},
   "source": [
    "Cell types"
   ]
  },
  {
   "cell_type": "code",
   "execution_count": 4,
   "metadata": {},
   "outputs": [
    {
     "data": {
      "text/plain": [
       "array(['cnidocyte', 'cnidocyte_gastrula', 'ecto_pharynx', 'ectoderm',\n",
       "       'ecto_aboral', 'EMS', 'EMS_ecto_boundary',\n",
       "       'gastro_circular_muscle_1', 'gastro_circular_muscle_2',\n",
       "       'gastro_parietal_muscle', 'gastro_IRF1_2', 'gastro_somatic_gonad',\n",
       "       'muscle_tentacle_retractor', 'muscle_mesentery_retractor',\n",
       "       'digestive_filaments_1', 'digestive_filaments_2',\n",
       "       'digestive_filaments_3', 'epidermis_1', 'epidermis_2',\n",
       "       'precursors_PGC', 'precursors_endoNPC', 'precursors_NPC', 'NPC_1',\n",
       "       'NPC_2', 'neuron_GATA_Islet_1', 'neuron_GATA_Islet_2',\n",
       "       'neuron_Pou4_FoxL2_1', 'neuron_Pou4_FoxL2_2',\n",
       "       'neuron_Pou4_FoxL2_3', 'neuronal', 'gland', 'gland_mucin'],\n",
       "      dtype=object)"
      ]
     },
     "execution_count": 4,
     "metadata": {},
     "output_type": "execute_result"
    }
   ],
   "source": [
    "cell_types = grn_dat['cell_type'].unique()\n",
    "cell_types"
   ]
  },
  {
   "cell_type": "markdown",
   "metadata": {},
   "source": [
    "For every cell type, we filter GRN data by gene expression, and generate networks."
   ]
  },
  {
   "cell_type": "code",
   "execution_count": 6,
   "metadata": {},
   "outputs": [
    {
     "name": "stdout",
     "output_type": "stream",
     "text": [
      "All source nodes are in the node data.frame\n",
      "All target nodes are in the node data.frame\n",
      "Applying default style...\n",
      "Applying preferred layout\n"
     ]
    },
    {
     "data": {
      "text/plain": [
       "{}"
      ]
     },
     "execution_count": 6,
     "metadata": {},
     "output_type": "execute_result"
    }
   ],
   "source": [
    "for ct in cell_types[12:]:\n",
    "\n",
    "    print(ct)\n",
    "\n",
    "    # subset by cell type\n",
    "    grn_cts = grn_dat[grn_dat['cell_type'] == ct]\n",
    "\n",
    "    # filter genes by expression\n",
    "    grn_cts = grn_cts.loc[grn_cts['expression_fc'] > fc_thr, :]\n",
    "    grn_cts = grn_cts.loc[grn_cts['target_expression_fc'] > fc_thr, :]\n",
    "\n",
    "    # set limits for expression: max 6\n",
    "    grn_cts['expression_fc'] = grn_cts['expression_fc'].clip(upper=6)\n",
    "    grn_cts['target_expression_fc'] = grn_cts['target_expression_fc'].clip(upper=6)\n",
    "\n",
    "    # use common_name for gene name when available\n",
    "    grn_cts.loc[grn_cts['common_name'].notna(), 'gene_name'] = grn_cts.loc[grn_cts['common_name'].notna(), 'common_name']\n",
    "    grn_cts.loc[grn_cts['target_common_name'].notna(), 'target_gene_name'] = grn_cts.loc[grn_cts['target_common_name'].notna(), 'target_common_name']\n",
    "\n",
    "    # use og tf family for tf gene name\n",
    "    grn_cts.loc[grn_cts['gene_name'].isna(), 'gene_name'] = grn_cts.loc[grn_cts['gene_name'].isna(), 'og'].str.split('.').str[0]\n",
    "    grn_cts.loc[grn_cts['target_gene_name'].isna(), 'target_gene_name'] = grn_cts.loc[grn_cts['target_gene_name'].isna(), 'target_og'].str.split('.').str[0]\n",
    "\n",
    "    # if not a TF, set gene name to empty string\n",
    "    grn_cts.loc[~grn_cts['gene'].isin(tfs_dat['gene']), 'gene_name'] = ''\n",
    "    grn_cts = grn_cts.replace(np.nan, '', regex=True)\n",
    "\n",
    "    # NODES\n",
    "\n",
    "    # get unique source gene values in the network\n",
    "    nodes_source = grn_cts.loc[:, ['gene', 'gene_name', 'expression_fc', 'zscore']]\n",
    "    nodes_source.rename(columns={'gene': 'id', 'gene_name': 'name'}, inplace=True)\n",
    "    nodes_source.drop_duplicates(ignore_index=True, inplace=True)\n",
    "    nodes_source['type'] = 'source'\n",
    "\n",
    "    # get unique target gene values in the network\n",
    "    nodes_target = grn_cts.loc[:, ['target_gene', 'target_gene_name', 'target_expression_fc']]\n",
    "    nodes_target.rename(columns={'target_gene': 'id', 'target_gene_name': 'name', 'target_expression_fc': 'expression_fc'}, inplace=True)\n",
    "    nodes_target.drop_duplicates(ignore_index=True, inplace=True)\n",
    "    nodes_target['zscore'] = 1e-5\n",
    "    nodes_target['expression_fc'] = 1\n",
    "    nodes_target['type'] = 'target'\n",
    "\n",
    "    # get nodes_target that are not in nodes_source\n",
    "    nodes_target = nodes_target.loc[~nodes_target['id'].isin(nodes_source['id'])]\n",
    "\n",
    "    # combine nodes\n",
    "    nodes = pd.concat([nodes_source, nodes_target], ignore_index=True)\n",
    "\n",
    "    # change to str\n",
    "    nodes['id'] = nodes['id'].astype(str)\n",
    "    nodes['name'] = nodes['name'].astype(str)\n",
    "    \n",
    "    # add annotations\n",
    "    nodes = nodes.merge(gns_dat, how='left', left_on='id', right_on='gene')\n",
    "    \n",
    "    # EDGES\n",
    "\n",
    "    # get edges\n",
    "    edges = grn_cts.loc[:, ['gene', 'target_gene', 'in_silico_chip_score']]\n",
    "    edges.rename(columns={'gene': 'source', 'target_gene': 'target'}, inplace=True)\n",
    "    edges.drop_duplicates(ignore_index=True, inplace=True)\n",
    "\n",
    "    # change to str\n",
    "    edges['source'] = edges['source'].astype(str)\n",
    "    edges['target'] = edges['target'].astype(str)\n",
    "\n",
    "    # check that all edges sources are in node data.frame\n",
    "    source_nodes = edges['source'].isin(nodes['id'])\n",
    "    target_nodes = edges['target'].isin(nodes['id'])\n",
    "\n",
    "    if source_nodes.all():\n",
    "        print('All source nodes are in the node data.frame')\n",
    "    else: \n",
    "        print(f'{sum(source_nodes == False)} target nodes are not in the node data.frame')\n",
    "\n",
    "    if target_nodes.all():\n",
    "        print('All target nodes are in the node data.frame')\n",
    "    else: \n",
    "        print(f'{sum(target_nodes == False)} target nodes are not in the node data.frame')\n",
    "        \n",
    "    # NETWORK\n",
    "\n",
    "    p4c.create_network_from_data_frames(nodes, edges, title=ct, collection='GRN')\n",
    "\n",
    "    # style\n",
    "    style_name = \"grnStyle\"\n",
    "    defaults = {\n",
    "        'NODE_SIZE': 1,\n",
    "        'NODE_FILL_COLOR': '#D3D3D3',\n",
    "        'NODE_BORDER_COLOR': '#D3D3D3',\n",
    "        'EDGE_TRANSPARENCY': 200,\n",
    "        'EDGE_COLOR': '#D3D3D3',\n",
    "        'NODE_LABEL_POSITION': \"W,E,c,0.00,0.00\",\n",
    "        'NODE_LABEL_FONT_SIZE': 28,\n",
    "        'ARROW_SHAPE': \"ARROW_SHORT\",\n",
    "        'ARROW_COLOR': '#D3D3D3'\n",
    "    }\n",
    "    nodeLabels = p4c.map_visual_property('node label', 'name', 'p')\n",
    "    edgeWidth = p4c.map_visual_property('edge width', 'in_silico_chip_score', 'p')\n",
    "    edgeTransparency = p4c.map_visual_property('edge transparency', 'in_silico_chip_score', 'p')\n",
    "    p4c.create_visual_style(style_name, defaults, [nodeLabels, edgeWidth])\n",
    "    p4c.set_visual_style(style_name)\n",
    "\n",
    "    from py4cytoscape import gen_node_color_map\n",
    "    from py4cytoscape import gen_node_size_map\n",
    "    from py4cytoscape import gen_edge_arrow_map\n",
    "    \n",
    "    # source nodes\n",
    "    #p4c.set_node_color_mapping(**gen_node_color_map('expression_fc', p4c.palette_color_brewer_s_YlOrRd(), style_name=style_name))\n",
    "    p4c.set_node_color_mapping(\n",
    "        table_column='expression_fc',\n",
    "        table_column_values=[1, 2, 3, 4, 5, 6],  # Expression levels at these points\n",
    "        colors=['#FFD39C', '#FFA400', '#E33A04', '#A61414', '#62083F', '#490446'],  \n",
    "        mapping_type='c',  # Continuous mapping\n",
    "        style_name=style_name\n",
    "    )\n",
    "    #p4c.set_node_size_mapping(**gen_node_size_map('zscore', style_name=style_name))\n",
    "    p4c.set_node_size_mapping(\n",
    "        table_column='zscore',\n",
    "        table_column_values=[nodes['zscore'].min(), nodes['zscore'].median(), nodes['zscore'].max()],  \n",
    "        sizes=[50, 100, 150],  \n",
    "        mapping_type='c',\n",
    "        style_name=style_name\n",
    "    )\n",
    "    p4c.set_node_border_width_default(0, style_name=style_name)\n",
    "    p4c.set_node_font_size_default(36, style_name=style_name)\n",
    "\n",
    "    # target nodes\n",
    "    target_nodes_ids = nodes.loc[nodes['type'] == 'target', 'name'].to_list()\n",
    "    p4c.set_node_color_bypass(target_nodes_ids, '#D3D3D3')\n",
    "    p4c.set_node_size_bypass(target_nodes_ids, 5)\n",
    "    p4c.set_node_label_bypass(target_nodes_ids, '')\n",
    "\n",
    "    # edges\n",
    "    p4c.set_edge_target_arrow_shape_mapping(**gen_edge_arrow_map('interaction', style_name=style_name))\n",
    "    net_cols = p4c.get_table_columns('edge')\n",
    "\n",
    "    # loops\n",
    "    loops = net_cols.loc[net_cols['source'] == net_cols['target'], 'SUID'].to_list()\n",
    "    p4c.set_edge_color_bypass(loops, '#00A300')\n",
    "\n",
    "    # TF-TF noodes\n",
    "    tftfs = net_cols.loc[net_cols['target'].isin(tfs_dat['gene']), 'SUID'].to_list()\n",
    "    p4c.set_edge_color_bypass(tftfs, '#00A300')\n",
    "\n",
    "    # layout\n",
    "    p4c.layout_network('kamada-kawai')\n",
    "\n",
    "    # show image\n",
    "    # p4c.notebook_export_show_image()"
   ]
  },
  {
   "cell_type": "markdown",
   "metadata": {},
   "source": [
    "Save session"
   ]
  },
  {
   "cell_type": "code",
   "execution_count": null,
   "metadata": {},
   "outputs": [
    {
     "data": {
      "text/plain": [
       "{}"
      ]
     },
     "execution_count": 13,
     "metadata": {},
     "output_type": "execute_result"
    }
   ],
   "source": [
    "p4c.session.save_session(grn_dir + f'cytoscape_session_expression_fc_{str(fc_thr)}_chromvar_{str(chr_thr)}.cys')"
   ]
  }
 ],
 "metadata": {
  "kernelspec": {
   "display_name": "cytoscape",
   "language": "python",
   "name": "python3"
  },
  "language_info": {
   "codemirror_mode": {
    "name": "ipython",
    "version": 3
   },
   "file_extension": ".py",
   "mimetype": "text/x-python",
   "name": "python",
   "nbconvert_exporter": "python",
   "pygments_lexer": "ipython3",
   "version": "3.13.2"
  }
 },
 "nbformat": 4,
 "nbformat_minor": 2
}
