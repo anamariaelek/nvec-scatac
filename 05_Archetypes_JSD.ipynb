{
 "cells": [
  {
   "cell_type": "code",
   "execution_count": 1,
   "metadata": {},
   "outputs": [],
   "source": [
    "import numpy as np\n",
    "import os\n",
    "import matplotlib.pyplot as plt\n",
    "import pandas as pd\n",
    "import pickle as pk\n",
    "from tqdm import tqdm\n",
    "import sys\n",
    "sys.path.append('scripts/')\n",
    "from functions import *"
   ]
  },
  {
   "cell_type": "code",
   "execution_count": 5,
   "metadata": {},
   "outputs": [],
   "source": [
    "# input motifs for archetypes\n",
    "mots_meme_fn = 'results/Archetypes/input-pwms.meme'\n",
    "mots_meme = readMEME(mots_meme_fn)\n",
    "\n",
    "# Get all patterns in a single dictionary\n",
    "mots_pfms = mots_meme[0]\n",
    "mots_names = mots_meme[1]\n"
   ]
  },
  {
   "cell_type": "code",
   "execution_count": 13,
   "metadata": {},
   "outputs": [
    {
     "data": {
      "text/plain": [
       "5043"
      ]
     },
     "execution_count": 13,
     "metadata": {},
     "output_type": "execute_result"
    }
   ],
   "source": [
    "# get unique motif names\n",
    "mots_names\n",
    "mots_names_unique = []\n",
    "for i in mots_names:\n",
    "    if i not in mots_names_unique:\n",
    "        mots_names_unique.append(i)\n",
    "\n",
    "len(mots_names_unique)"
   ]
  },
  {
   "cell_type": "code",
   "execution_count": 6,
   "metadata": {},
   "outputs": [
    {
     "name": "stderr",
     "output_type": "stream",
     "text": [
      "100%|██████████| 5043/5043 [12:35<00:00,  6.68it/s]\n"
     ]
    }
   ],
   "source": [
    "from joblib import Parallel, delayed\n",
    "import numpy as np\n",
    "from tqdm import tqdm\n",
    "\n",
    "# Pre-compute key list for faster access\n",
    "keys = list(mots_pfms.keys())\n",
    "n = len(mots_pfms)\n",
    "\n",
    "# Pre-allocate similarity matrix\n",
    "jMap = np.zeros((n, n))\n",
    "\n",
    "# Define a function for parallel computation\n",
    "def compute_similarity(i, mots_pfms, keys):\n",
    "    similarities = []\n",
    "    base = mots_pfms[keys[i]]\n",
    "    for j in range(i + 1, n):\n",
    "        other = mots_pfms[keys[j]]\n",
    "        dist, _, _ = bestOverlapPFMs(base, other, overlap='complete', agg='sum')\n",
    "        similarities.append((i, j, dist))\n",
    "    return similarities\n",
    "\n",
    "# Compute the upper triangle of the matrix in parallel\n",
    "results = Parallel(n_jobs=-1)(delayed(compute_similarity)(i, mots_pfms, keys) for i in tqdm(range(n)))\n",
    "\n",
    "# Update the matrix with results\n",
    "for res in results:\n",
    "    for i, j, dist in res:\n",
    "        jMap[i, j] = dist\n",
    "        jMap[j, i] = dist"
   ]
  },
  {
   "cell_type": "code",
   "execution_count": 7,
   "metadata": {},
   "outputs": [],
   "source": [
    "with open('results/Archetypes/motif-similarity-JSD.pkl', 'wb') as f:\n",
    "    pk.dump(jMap, f)"
   ]
  },
  {
   "cell_type": "code",
   "execution_count": 8,
   "metadata": {},
   "outputs": [],
   "source": [
    "# Load the JSD similarities\n",
    "with open('results/Archetypes/motif-similarity-JSD.pkl', 'rb') as f:\n",
    "    jMap = pk.load(f)\n",
    "\n",
    "# Create row and column names\n",
    "col_names = list(mots_pfms.keys())\n",
    "row_names = col_names\n",
    "\n",
    "# Create a DataFrame with row and column names\n",
    "df = pd.DataFrame(jMap, index=row_names, columns=col_names)\n",
    "df = df.melt(ignore_index=False, var_name='motif2', value_name='JSD')\n",
    "df = df.reset_index().rename(columns={'index': 'motif1'})\n",
    "\n",
    "# Save as a TSV file\n",
    "import gzip\n",
    "with gzip.open('results/Archetypes/motif-similarity-JSD.tsv.gz', 'wt') as f:\n",
    "    df.to_csv(f, sep='\\t', index=False)"
   ]
  },
  {
   "cell_type": "code",
   "execution_count": 9,
   "metadata": {},
   "outputs": [
    {
     "data": {
      "text/html": [
       "<div>\n",
       "<style scoped>\n",
       "    .dataframe tbody tr th:only-of-type {\n",
       "        vertical-align: middle;\n",
       "    }\n",
       "\n",
       "    .dataframe tbody tr th {\n",
       "        vertical-align: top;\n",
       "    }\n",
       "\n",
       "    .dataframe thead th {\n",
       "        text-align: right;\n",
       "    }\n",
       "</style>\n",
       "<table border=\"1\" class=\"dataframe\">\n",
       "  <thead>\n",
       "    <tr style=\"text-align: right;\">\n",
       "      <th></th>\n",
       "      <th>notif1</th>\n",
       "      <th>motif2</th>\n",
       "      <th>JSD</th>\n",
       "    </tr>\n",
       "  </thead>\n",
       "  <tbody>\n",
       "    <tr>\n",
       "      <th>0</th>\n",
       "      <td>M00115_2.00</td>\n",
       "      <td>M00115_2.00</td>\n",
       "      <td>0.000000</td>\n",
       "    </tr>\n",
       "    <tr>\n",
       "      <th>1</th>\n",
       "      <td>M01659_2.00</td>\n",
       "      <td>M00115_2.00</td>\n",
       "      <td>1.120823</td>\n",
       "    </tr>\n",
       "    <tr>\n",
       "      <th>2</th>\n",
       "      <td>M01660_2.00</td>\n",
       "      <td>M00115_2.00</td>\n",
       "      <td>0.150321</td>\n",
       "    </tr>\n",
       "    <tr>\n",
       "      <th>3</th>\n",
       "      <td>M01664_2.00</td>\n",
       "      <td>M00115_2.00</td>\n",
       "      <td>0.176049</td>\n",
       "    </tr>\n",
       "    <tr>\n",
       "      <th>4</th>\n",
       "      <td>M01667_2.00</td>\n",
       "      <td>M00115_2.00</td>\n",
       "      <td>0.152020</td>\n",
       "    </tr>\n",
       "  </tbody>\n",
       "</table>\n",
       "</div>"
      ],
      "text/plain": [
       "        notif1       motif2       JSD\n",
       "0  M00115_2.00  M00115_2.00  0.000000\n",
       "1  M01659_2.00  M00115_2.00  1.120823\n",
       "2  M01660_2.00  M00115_2.00  0.150321\n",
       "3  M01664_2.00  M00115_2.00  0.176049\n",
       "4  M01667_2.00  M00115_2.00  0.152020"
      ]
     },
     "execution_count": 9,
     "metadata": {},
     "output_type": "execute_result"
    }
   ],
   "source": [
    "df.head()"
   ]
  }
 ],
 "metadata": {
  "kernelspec": {
   "display_name": "Python 3",
   "language": "python",
   "name": "python3"
  },
  "language_info": {
   "codemirror_mode": {
    "name": "ipython",
    "version": 3
   },
   "file_extension": ".py",
   "mimetype": "text/x-python",
   "name": "python",
   "nbconvert_exporter": "python",
   "pygments_lexer": "ipython3",
   "version": "3.9.18"
  }
 },
 "nbformat": 4,
 "nbformat_minor": 2
}
